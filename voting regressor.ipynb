{
 "cells": [
  {
   "cell_type": "code",
   "execution_count": 17,
   "id": "7a0c53d7",
   "metadata": {},
   "outputs": [],
   "source": [
    "from sklearn.datasets import make_regression\n",
    "import numpy as np"
   ]
  },
  {
   "cell_type": "code",
   "execution_count": 4,
   "id": "ff823e57",
   "metadata": {},
   "outputs": [],
   "source": [
    "x,y=make_regression(n_samples=1000,n_features=20,n_informative=15,n_targets=1,random_state=21)"
   ]
  },
  {
   "cell_type": "code",
   "execution_count": 6,
   "id": "3651a12d",
   "metadata": {},
   "outputs": [
    {
     "data": {
      "text/plain": [
       "(1000, 20)"
      ]
     },
     "execution_count": 6,
     "metadata": {},
     "output_type": "execute_result"
    }
   ],
   "source": [
    "x.shape"
   ]
  },
  {
   "cell_type": "code",
   "execution_count": 7,
   "id": "ad93ee6a",
   "metadata": {},
   "outputs": [
    {
     "data": {
      "text/plain": [
       "(1000,)"
      ]
     },
     "execution_count": 7,
     "metadata": {},
     "output_type": "execute_result"
    }
   ],
   "source": [
    "y.shape"
   ]
  },
  {
   "cell_type": "code",
   "execution_count": 9,
   "id": "5a8a4bef",
   "metadata": {},
   "outputs": [],
   "source": [
    "from sklearn.linear_model import LinearRegression\n",
    "from sklearn.tree import DecisionTreeRegressor\n",
    "from sklearn.svm import SVR\n",
    "from sklearn.model_selection import train_test_split,cross_val_score"
   ]
  },
  {
   "cell_type": "code",
   "execution_count": 11,
   "id": "148bbbda",
   "metadata": {},
   "outputs": [],
   "source": [
    "lr=LinearRegression()\n",
    "dt=DecisionTreeRegressor()\n",
    "svr=SVR()"
   ]
  },
  {
   "cell_type": "code",
   "execution_count": 14,
   "id": "ba8e0355",
   "metadata": {},
   "outputs": [],
   "source": [
    "estimators=[('lr',lr),('dt',dt),('svr',svr)]"
   ]
  },
  {
   "cell_type": "code",
   "execution_count": 20,
   "id": "9f9280a8",
   "metadata": {},
   "outputs": [
    {
     "name": "stdout",
     "output_type": "stream",
     "text": [
      "lr 1.0\n",
      "dt 0.17\n",
      "svr 0.06\n"
     ]
    }
   ],
   "source": [
    "for estimator in estimators:\n",
    "    scores=cross_val_score(estimator[1],x,y,scoring='r2',cv=10)\n",
    "    print(estimator[0],np.round(np.mean(scores),2))"
   ]
  },
  {
   "cell_type": "code",
   "execution_count": 21,
   "id": "763c734f",
   "metadata": {},
   "outputs": [],
   "source": [
    "from sklearn.ensemble import VotingRegressor"
   ]
  },
  {
   "cell_type": "code",
   "execution_count": 22,
   "id": "9139c8c2",
   "metadata": {},
   "outputs": [
    {
     "name": "stdout",
     "output_type": "stream",
     "text": [
      "Voting Regressor 0.71\n"
     ]
    }
   ],
   "source": [
    "vrm=VotingRegressor(estimators=estimators)\n",
    "scores = cross_val_score(vrm,x,y,scoring='r2',cv=10)\n",
    "print(\"Voting Regressor\",np.round(np.mean(scores),2))\n"
   ]
  },
  {
   "cell_type": "code",
   "execution_count": null,
   "id": "a4b7da47",
   "metadata": {},
   "outputs": [],
   "source": []
  }
 ],
 "metadata": {
  "kernelspec": {
   "display_name": "Python 3",
   "language": "python",
   "name": "python3"
  },
  "language_info": {
   "codemirror_mode": {
    "name": "ipython",
    "version": 3
   },
   "file_extension": ".py",
   "mimetype": "text/x-python",
   "name": "python",
   "nbconvert_exporter": "python",
   "pygments_lexer": "ipython3",
   "version": "3.8.8"
  }
 },
 "nbformat": 4,
 "nbformat_minor": 5
}
